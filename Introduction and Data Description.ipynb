{
 "cells": [
  {
   "cell_type": "markdown",
   "metadata": {},
   "source": [
    "# Applied Data Science Capstone"
   ]
  },
  {
   "cell_type": "markdown",
   "metadata": {},
   "source": [
    "## Introduction / Business Problem"
   ]
  },
  {
   "cell_type": "markdown",
   "metadata": {},
   "source": [
    "New York City and Toronto are financial centers of the United States and Canada, respectively. They both have a great diversity of multicultural places and venues. This is where I will leverage Foursquare. The purpose of this project is to compare New York and Toronto in terms of the popularity of venues and find out which venues tend to be most popular in each city. This project can be used by individuals looking to opening a business in either of those cities and find out which businesses/industries tend to be most popular in each city. "
   ]
  },
  {
   "cell_type": "markdown",
   "metadata": {},
   "source": [
    "## Data Description"
   ]
  },
  {
   "cell_type": "markdown",
   "metadata": {},
   "source": [
    "The project will use data on New York city and Toronto. The NYC dataset was provided by \"IBM Data Science Professional Certificate\". The dataset includes columns on each neighborhood of New York City, their latitude and logitude, boroughs and zip codes. Data on Toronto's neighborhoods and zip codes was scraped from this wikipedia page (https://en.wikipedia.org/wiki/List_of_postal_codes_of_Canada:_M). Data on Toronto's corresponding latitudes and longitudes were provided by the IBM team as well as a csv file. \n",
    "\n",
    "The data will be used to cluster neighborhoods in each city and get the list of venues which are most popular in New York and Toronto. Based on the findings, we can draw conclusions about which industries/businesses tend to perform well. This is an useful information for potential investors. "
   ]
  }
 ],
 "metadata": {
  "kernelspec": {
   "display_name": "Python 3",
   "language": "python",
   "name": "python3"
  },
  "language_info": {
   "codemirror_mode": {
    "name": "ipython",
    "version": 3
   },
   "file_extension": ".py",
   "mimetype": "text/x-python",
   "name": "python",
   "nbconvert_exporter": "python",
   "pygments_lexer": "ipython3",
   "version": "3.8.5"
  }
 },
 "nbformat": 4,
 "nbformat_minor": 4
}
